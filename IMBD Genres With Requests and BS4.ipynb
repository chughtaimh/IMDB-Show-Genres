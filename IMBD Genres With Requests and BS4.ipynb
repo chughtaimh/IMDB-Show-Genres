{
 "cells": [
  {
   "cell_type": "code",
   "execution_count": 1,
   "metadata": {
    "collapsed": true
   },
   "outputs": [],
   "source": [
    "import requests\n",
    "\n",
    "from bs4 import BeautifulSoup"
   ]
  },
  {
   "cell_type": "code",
   "execution_count": 2,
   "metadata": {
    "collapsed": true
   },
   "outputs": [],
   "source": [
    "def genre(show):\n",
    "    \"\"\"Takes a search :show: and attempts to return the IMDB genre of the show.\"\"\"\n",
    "    try:\n",
    "        url = show_url(show)\n",
    "\n",
    "        r = requests.get(url)\n",
    "        soup = BeautifulSoup(r.content, 'lxml')\n",
    "        genres = ', '.join([genre_span.get_text()\n",
    "                            for genre_span in soup.findAll('span', attrs={'itemprop':'genre'})])\n",
    "        return genres\n",
    "    except AttributeError: \n",
    "        return None"
   ]
  },
  {
   "cell_type": "code",
   "execution_count": 3,
   "metadata": {
    "collapsed": true
   },
   "outputs": [],
   "source": [
    "def show_url(show):\n",
    "    \"\"\"Returns IMDB url for given :show:.\"\"\"\n",
    "    show = show.replace(' ', '+')\n",
    "    url = 'http://www.imdb.com/find?ref_=nv_sr_fn&q={}'.format(show)\n",
    "    \n",
    "    r = requests.get(url)\n",
    "    soup = BeautifulSoup(r.content, 'lxml')\n",
    "    \n",
    "    relative_url = soup.find('td', attrs={'class':'result_text'}).find('a')['href']\n",
    "    base = 'http://www.imdb.com'\n",
    "    return base + relative_url"
   ]
  },
  {
   "cell_type": "code",
   "execution_count": 4,
   "metadata": {
    "collapsed": false
   },
   "outputs": [
    {
     "data": {
      "text/plain": [
       "u'Family, Sport'"
      ]
     },
     "execution_count": 4,
     "metadata": {},
     "output_type": "execute_result"
    }
   ],
   "source": [
    "genre('NFL Football')"
   ]
  }
 ],
 "metadata": {
  "kernelspec": {
   "display_name": "Python 2",
   "language": "python",
   "name": "python2"
  },
  "language_info": {
   "codemirror_mode": {
    "name": "ipython",
    "version": 2
   },
   "file_extension": ".py",
   "mimetype": "text/x-python",
   "name": "python",
   "nbconvert_exporter": "python",
   "pygments_lexer": "ipython2",
   "version": "2.7.11"
  }
 },
 "nbformat": 4,
 "nbformat_minor": 0
}
